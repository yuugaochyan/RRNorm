{
 "cells": [
  {
   "cell_type": "code",
   "execution_count": 1,
   "metadata": {},
   "outputs": [
    {
     "name": "stderr",
     "output_type": "stream",
     "text": [
      "/mnt/data/smart_health_02/zhuyansha/miniconda3/envs/torch2py311/lib/python3.11/site-packages/tqdm/auto.py:21: TqdmWarning: IProgress not found. Please update jupyter and ipywidgets. See https://ipywidgets.readthedocs.io/en/stable/user_install.html\n",
      "  from .autonotebook import tqdm as notebook_tqdm\n"
     ]
    }
   ],
   "source": [
    "from core.configure import get_recall_config\n",
    "from core.models import SiameseClassificationModel\n",
    "from core.datasets.recall import get_recall_datasets\n",
    "from core.evaluate import compute_metrics\n",
    "from transformers import AutoConfig,TrainerCallback,Trainer\n",
    "import json"
   ]
  },
  {
   "cell_type": "code",
   "execution_count": 2,
   "metadata": {},
   "outputs": [],
   "source": [
    "args,training_args = get_recall_config()\n",
    "config = AutoConfig.from_pretrained(args.plm_name)"
   ]
  },
  {
   "cell_type": "code",
   "execution_count": 3,
   "metadata": {},
   "outputs": [
    {
     "name": "stderr",
     "output_type": "stream",
     "text": [
      "Map (num_proc=8): 100%|██████████| 14828/14828 [00:16<00:00, 907.92 examples/s] \n",
      "Map (num_proc=8): 100%|██████████| 4868/4868 [00:00<00:00, 16977.67 examples/s]\n"
     ]
    }
   ],
   "source": [
    "recall_datasets,standard_name_list,tokenizer = get_recall_datasets()"
   ]
  },
  {
   "cell_type": "code",
   "execution_count": 4,
   "metadata": {},
   "outputs": [
    {
     "name": "stderr",
     "output_type": "stream",
     "text": [
      "100%|██████████| 8/8 [00:22<00:00,  2.78s/it]\n"
     ]
    }
   ],
   "source": [
    "model = SiameseClassificationModel(config=config, args=args, code=standard_name_list)"
   ]
  },
  {
   "cell_type": "code",
   "execution_count": 5,
   "metadata": {},
   "outputs": [],
   "source": [
    "class ModifyDatasetCallback(TrainerCallback):\n",
    "    def __init__(self, trainer, train_list, args) -> None:\n",
    "        super().__init__()\n",
    "        self._trainer = trainer\n",
    "        self.train_list = train_list\n",
    "        self.args = args\n",
    "    \n",
    "    def gen_training_dataset(self, train_list, neg_num=args.neg_num):\n",
    "        train_term = [i[0] for i in train_list]\n",
    "        train_embed = self._trainer.model.get_term_embedding(train_term)\n",
    "        index_list, _ = self._trainer.model.faiss_distance(train_embed,self._trainer.model.code_embedding)\n",
    "        \n",
    "        input_data = []\n",
    "        label_list = []\n",
    "        for t,idx in zip(train_list, index_list):\n",
    "            item_neg_list = [self._trainer.model.code[i] for i in idx]\n",
    "            item_neg_list = [i for i in item_neg_list if i not in t[1]][:neg_num]\n",
    "            \n",
    "            for pos in t[1]:\n",
    "                input_data.append([t[0],pos]+item_neg_list)\n",
    "                label_list.append(len(t[1])-1)\n",
    "        \n",
    "        df = pd.DataFrame({'input':input_data,'labels':label_list})\n",
    "        dataset = datasets.Dataset.from_pandas(df)\n",
    "        encoded_dataset = dataset.map(preprocess_function,num_proc=8)\n",
    "        return encoded_dataset\n",
    "\n",
    "    def on_epoch_end(self, args, state, control, **kwargs):\n",
    "        self._trainer.model.update_code_embedding()\n",
    "        self._trainer.train_dataset = self.gen_training_dataset(self.train_list)\n",
    "        return control\n",
    "\n",
    "class SavePretrainedCallback(TrainerCallback):\n",
    "    def __init__(self, trainer) -> None:\n",
    "        super().__init__()\n",
    "        self._trainer = trainer\n",
    "\n",
    "    def on_epoch_end(self, args, state, control, **kwargs):\n",
    "        self._trainer.save_predtrained\n",
    "        return control"
   ]
  },
  {
   "cell_type": "code",
   "execution_count": 7,
   "metadata": {},
   "outputs": [],
   "source": [
    "from transformers import Trainer"
   ]
  },
  {
   "cell_type": "code",
   "execution_count": 11,
   "metadata": {},
   "outputs": [
    {
     "name": "stderr",
     "output_type": "stream",
     "text": [
      "Detected kernel version 4.19.91, which is below the recommended minimum of 5.5.0; this can cause the process to hang. It is recommended to upgrade the kernel to the minimum version or higher.\n"
     ]
    }
   ],
   "source": [
    "trainer = Trainer(\n",
    "    model,\n",
    "    training_args,\n",
    "    train_dataset=recall_datasets[\"train\"],\n",
    "    eval_dataset=recall_datasets[\"dev\"],\n",
    "    tokenizer=tokenizer,\n",
    "    compute_metrics=compute_metrics\n",
    ")\n",
    "a = ModifyDatasetCallback(trainer,recall_datasets[\"train\"],args)\n",
    "trainer.add_callback(a)"
   ]
  },
  {
   "cell_type": "code",
   "execution_count": null,
   "metadata": {},
   "outputs": [],
   "source": [
    "trainer.train()"
   ]
  },
  {
   "cell_type": "code",
   "execution_count": null,
   "metadata": {},
   "outputs": [],
   "source": [
    "def gen_cand_dataset(data_list,model=model,train_flag=False):\n",
    "    train_embed = model.get_term_embedding([i[0] for i in data_list])\n",
    "    index_list, _ = model.faiss_distance(train_embed, model.code_embedding)\n",
    "\n",
    "    cand_list = []\n",
    "    for t,idx in zip(data_list, index_list):\n",
    "        mention = t[0]\n",
    "        o_mention = t[1][0]\n",
    "        stds = t[1][1]\n",
    "        cand = [model.code[i] for i in idx[:10]]\n",
    "\n",
    "        if train_flag:\n",
    "            golden = t[1]\n",
    "            golden_add = [i for i in golden if i not in cand]\n",
    "            cand = golden_add + cand\n",
    "            cand = cand[:20]\n",
    "\n",
    "        tmp = []\n",
    "        for std in stds.split(\"##\"):\n",
    "            if std in cand:\n",
    "                tmp.append(std)  \n",
    "        cand_list.append({\n",
    "            \"text\":mention,\n",
    "            \"candidates\":cand,\n",
    "            \"normalized_result\":tmp,\n",
    "            \"origin_mention\":o_mention\n",
    "        })\n",
    "\n",
    "    return cand_dict"
   ]
  },
  {
   "cell_type": "code",
   "execution_count": null,
   "metadata": {},
   "outputs": [],
   "source": [
    "import json"
   ]
  },
  {
   "cell_type": "code",
   "execution_count": null,
   "metadata": {},
   "outputs": [],
   "source": [
    "for todo_set in [\"train\",\"dev\",\"test\"]:\n",
    "    candidates = gen_cand_dataset(recall_datasets[todo_set],train_flag=True if todo_set=='train' else False)\n",
    "    with open(\"data/3_recall_result/\"+todo_set+\".json\", 'w', encoding='utf-8') as f:\n",
    "        json.dump(candidates,f,indent=2,ensure_ascii=False)"
   ]
  }
 ],
 "metadata": {
  "kernelspec": {
   "display_name": "Python 3",
   "language": "python",
   "name": "python3"
  },
  "language_info": {
   "codemirror_mode": {
    "name": "ipython",
    "version": 3
   },
   "file_extension": ".py",
   "mimetype": "text/x-python",
   "name": "python",
   "nbconvert_exporter": "python",
   "pygments_lexer": "ipython3",
   "version": "3.11.7"
  },
  "orig_nbformat": 4,
  "vscode": {
   "interpreter": {
    "hash": "944688a44db6320333703092cfd4965318d536521f39d5d7e33d73a40c4f352e"
   }
  }
 },
 "nbformat": 4,
 "nbformat_minor": 2
}
