{
 "cells": [
  {
   "cell_type": "code",
   "execution_count": null,
   "metadata": {},
   "outputs": [],
   "source": [
    "from core.RR import seg_gpt,rule_compose_stage_1,rule_compose_stage_2,rule_compose_stage_3\n",
    "import os"
   ]
  },
  {
   "cell_type": "code",
   "execution_count": null,
   "metadata": {},
   "outputs": [],
   "source": [
    "if not os.listdir(\"data/tmp\"):\n",
    "    os.makedirs(\"data/tmp\")\n",
    "todo_list = [\"train\",\"dev\",\"test\"]\n",
    "for todo_name in tqdm(todo_list):\n",
    "    with open(\"data/origin_data/CHIP-CDN_\"+todo_name+\".json\",\"r\",encoding=\"utf-8\") as f:\n",
    "        data_list = json.load(f)\n",
    "    # if todo_name == \"test\":\n",
    "    #     start=3999\n",
    "    # else:\n",
    "    #     start=1\n",
    "    result_list=[]\n",
    "    for item in tqdm(data_list):\n",
    "        tmp=seg_gpt(item[\"text\"],item[\"normalized_result\"])\n",
    "        with open(\"data/tmp/\"+todo_name+\".jsonl\",\"a\",encoding=\"utf-8\") as f:\n",
    "            f.write(json.dumps(tmp,ensure_ascii=False))\n",
    "            f.write(\"\\n\")\n",
    "        time.sleep(10)\n",
    "        # time.sleep(30)"
   ]
  },
  {
   "cell_type": "code",
   "execution_count": null,
   "metadata": {},
   "outputs": [],
   "source": [
    "for todo_name in todo_list:\n",
    "    data_list=[]\n",
    "    with open(\"data/tmp/\"+todo_name+\".jsonl\",\"r\",encoding=\"utf-8\") as f:\n",
    "        line = f.readline().strip()\n",
    "        data_list.append(json.loads(line))\n",
    "    with open(\"data/1_recognization_result/\"+todo_name+\".json\",\"w\",encoding=\"utf-8\") as f:\n",
    "        f.write(json.dumps(data_list,ensure_ascii=False,indent=2))"
   ]
  },
  {
   "cell_type": "code",
   "execution_count": null,
   "metadata": {},
   "outputs": [],
   "source": [
    "for todo_name in todo_list:\n",
    "    data_list = json.load(open(\"data/1_recognization_result/\"+todo_name,\"r\",encoding=\"utf-8\"))\n",
    "    result_list = []\n",
    "    for v in data_list:\n",
    "        result_list.append({\n",
    "            \"text\":v[\"text\"],\n",
    "            \"normalized_result\":v[\"normalized_result\"],\n",
    "            \"RR\":rule_compose_stage_1(v[\"text\"],v[\"label_result\"])\n",
    "        })\n",
    "    with open(\"data/tmp/\"+todo_name+\".json\",\"w\",encoding=\"utf-8\") as f:\n",
    "        f.write(json.dumps(result_list,indent=2,ensure_ascii=False))"
   ]
  },
  {
   "cell_type": "code",
   "execution_count": null,
   "metadata": {},
   "outputs": [],
   "source": [
    "for todo_name in todo_list:\n",
    "    data_list = json.load(open(\"data/tmp/\"+todo_name+\".json\",\"r\",encoding=\"utf-8\"))\n",
    "    result_list = []\n",
    "    for v in data_list:\n",
    "        result_list.append({\n",
    "            \"text\":v[\"text\"],\n",
    "            \"normalized_result\":v[\"normalized_result\"],\n",
    "            \"RR\":rule_compose_stage_2(v[\"text\"],v[\"RR\"])\n",
    "        })\n",
    "    with open(\"data/tmp/\"+todo_name+\".json\",\"w\",encoding=\"utf-8\") as f:\n",
    "        f.write(json.dumps(result_list,indent=2,ensure_ascii=False))"
   ]
  },
  {
   "cell_type": "code",
   "execution_count": null,
   "metadata": {},
   "outputs": [],
   "source": [
    "for todo_name in todo_list:\n",
    "    data_list = json.load(open(\"data/tmp/\"+todo_name+\".json\",\"r\",encoding=\"utf-8\"))\n",
    "    result_list = []\n",
    "    for v in data_list:\n",
    "        s3_res = rule_compose_stage_3(v[\"text\"],v[\"RR\"])\n",
    "        result_list.append({\n",
    "            \"text\":v[\"text\"],\n",
    "            \"normalized_result\":v[\"normalized_result\"],\n",
    "            \"RR\":s3_res if len(s3_res)>0 else v[\"RR\"]\n",
    "        })\n",
    "    with open(\"data/2_restructure_result/\"+todo_name+\".json\",\"w\",encoding=\"utf-8\") as f:\n",
    "        f.write(json.dumps(result_list,indent=2,ensure_ascii=False))"
   ]
  }
 ],
 "metadata": {
  "kernelspec": {
   "display_name": "Python 3",
   "language": "python",
   "name": "python3"
  },
  "language_info": {
   "name": "python",
   "version": "3.11.7 (main, Dec 15 2023, 18:12:31) [GCC 11.2.0]"
  },
  "orig_nbformat": 4,
  "vscode": {
   "interpreter": {
    "hash": "944688a44db6320333703092cfd4965318d536521f39d5d7e33d73a40c4f352e"
   }
  }
 },
 "nbformat": 4,
 "nbformat_minor": 2
}
